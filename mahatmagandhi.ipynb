{
 "cells": [
  {
   "cell_type": "code",
   "execution_count": 5,
   "metadata": {
    "_cell_guid": "b1076dfc-b9ad-4769-8c92-a6c4dae69d19",
    "_uuid": "8f2839f25d086af736a60e9eeb907d3b93b6e0e5",
    "execution": {
     "iopub.execute_input": "2024-03-11T10:44:14.467876Z",
     "iopub.status.busy": "2024-03-11T10:44:14.467053Z",
     "iopub.status.idle": "2024-03-11T10:44:19.483236Z",
     "shell.execute_reply": "2024-03-11T10:44:19.481962Z",
     "shell.execute_reply.started": "2024-03-11T10:44:14.467840Z"
    }
   },
   "outputs": [
    {
     "name": "stdout",
     "output_type": "stream",
     "text": [
      "7366\n",
      "203338\n"
     ]
    }
   ],
   "source": [
    "import nltk\n",
    "from nltk import word_tokenize\n",
    "\n",
    "filename = r\"D:\\Hemang\\Sem2\\NLP\\Practical\\BookRead\\MAHATMA GANDHI .txt\"\n",
    "text = open(filename,\"r\",encoding=\"utf-8\").read().replace(\"\\n\",\" \")\n",
    "\n",
    "tokenizer = nltk.data.load(\"tokenizers/punkt/english.pickle\")\n",
    "sentence = tokenizer.tokenize(text)\n",
    "\n",
    "tokens = word_tokenize(text)\n",
    "print(len(sentence))\n",
    "print(len(tokens))"
   ]
  },
  {
   "cell_type": "code",
   "execution_count": 6,
   "metadata": {
    "execution": {
     "iopub.execute_input": "2024-03-11T10:44:19.485887Z",
     "iopub.status.busy": "2024-03-11T10:44:19.485348Z",
     "iopub.status.idle": "2024-03-11T10:44:19.562507Z",
     "shell.execute_reply": "2024-03-11T10:44:19.561358Z",
     "shell.execute_reply.started": "2024-03-11T10:44:19.485854Z"
    }
   },
   "outputs": [
    {
     "name": "stdout",
     "output_type": "stream",
     "text": [
      "104240\n"
     ]
    }
   ],
   "source": [
    "from nltk.corpus import stopwords\n",
    "from string import punctuation\n",
    "\n",
    "mySW = set(stopwords.words(\"english\"))\n",
    "vocab = []\n",
    "for token in tokens:\n",
    "    if token not in mySW and token not in punctuation:\n",
    "        vocab.append(token)\n",
    "print(len(vocab))"
   ]
  },
  {
   "cell_type": "code",
   "execution_count": 9,
   "metadata": {
    "execution": {
     "iopub.execute_input": "2024-03-11T10:44:19.564353Z",
     "iopub.status.busy": "2024-03-11T10:44:19.564011Z",
     "iopub.status.idle": "2024-03-11T10:44:20.423188Z",
     "shell.execute_reply": "2024-03-11T10:44:20.421226Z",
     "shell.execute_reply.started": "2024-03-11T10:44:19.564325Z"
    }
   },
   "outputs": [
    {
     "name": "stdout",
     "output_type": "stream",
     "text": [
      "104240\n"
     ]
    }
   ],
   "source": [
    "from nltk.stem.porter import PorterStemmer\n",
    "from nltk.stem import WordNetLemmatizer\n",
    "\n",
    "def stemClass(word):\n",
    "    stemmer = PorterStemmer()\n",
    "    lemmatizer = WordNetLemmatizer()\n",
    "    word = stemmer.stem(word)\n",
    "    word = lemmatizer.lemmatize(word,pos='a')\n",
    "    return word\n",
    "\n",
    "stemmerVocab = list(map(stemClass, vocab))\n",
    "print(len(stemmerVocab))"
   ]
  },
  {
   "cell_type": "code",
   "execution_count": null,
   "metadata": {
    "execution": {
     "iopub.status.busy": "2024-03-11T10:44:20.424468Z",
     "iopub.status.idle": "2024-03-11T10:44:20.425815Z",
     "shell.execute_reply": "2024-03-11T10:44:20.425526Z",
     "shell.execute_reply.started": "2024-03-11T10:44:20.425501Z"
    }
   },
   "outputs": [],
   "source": []
  }
 ],
 "metadata": {
  "kaggle": {
   "accelerator": "none",
   "dataSources": [
    {
     "datasetId": 4577351,
     "sourceId": 7814117,
     "sourceType": "datasetVersion"
    }
   ],
   "dockerImageVersionId": 30664,
   "isGpuEnabled": false,
   "isInternetEnabled": false,
   "language": "python",
   "sourceType": "notebook"
  },
  "kernelspec": {
   "display_name": "Python 3 (ipykernel)",
   "language": "python",
   "name": "python3"
  },
  "language_info": {
   "codemirror_mode": {
    "name": "ipython",
    "version": 3
   },
   "file_extension": ".py",
   "mimetype": "text/x-python",
   "name": "python",
   "nbconvert_exporter": "python",
   "pygments_lexer": "ipython3",
   "version": "3.11.4"
  }
 },
 "nbformat": 4,
 "nbformat_minor": 4
}
